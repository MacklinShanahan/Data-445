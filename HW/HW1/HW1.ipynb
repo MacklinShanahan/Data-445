{
 "cells": [
  {
   "cell_type": "code",
   "execution_count": null,
   "id": "6b373799",
   "metadata": {},
   "outputs": [],
   "source": [
    "## Exercise 1\n",
    "# This is known as clustering"
   ]
  },
  {
   "cell_type": "code",
   "execution_count": null,
   "id": "aa7c5fed",
   "metadata": {},
   "outputs": [],
   "source": [
    "## Exercise 2\n",
    "# This would be supervised learning because it requires two desired outputs to be chosen, spam or not spam. Unlike unsupervised learning, it\n",
    "# would also require some input on what is spam and what isn't."
   ]
  },
  {
   "cell_type": "code",
   "execution_count": null,
   "id": "3793bbaa",
   "metadata": {},
   "outputs": [],
   "source": [
    "## Exercise 3\n",
    "# A test set is gathered from the model to determine the overall affectiveness of the product."
   ]
  },
  {
   "cell_type": "code",
   "execution_count": null,
   "id": "71b73c16",
   "metadata": {},
   "outputs": [],
   "source": [
    "## Exercise 4\n",
    "# E.)"
   ]
  },
  {
   "cell_type": "code",
   "execution_count": 84,
   "id": "35435ceb",
   "metadata": {},
   "outputs": [
    {
     "data": {
      "text/html": [
       "<div>\n",
       "<style scoped>\n",
       "    .dataframe tbody tr th:only-of-type {\n",
       "        vertical-align: middle;\n",
       "    }\n",
       "\n",
       "    .dataframe tbody tr th {\n",
       "        vertical-align: top;\n",
       "    }\n",
       "\n",
       "    .dataframe thead th {\n",
       "        text-align: right;\n",
       "    }\n",
       "</style>\n",
       "<table border=\"1\" class=\"dataframe\">\n",
       "  <thead>\n",
       "    <tr style=\"text-align: right;\">\n",
       "      <th></th>\n",
       "      <th>No</th>\n",
       "      <th>transaction_date</th>\n",
       "      <th>house_age</th>\n",
       "      <th>distance_to_the_nearest_MRT_station</th>\n",
       "      <th>number_of_convenience_stores</th>\n",
       "      <th>latitude</th>\n",
       "      <th>longitude</th>\n",
       "      <th>house_price_of_unit_area</th>\n",
       "    </tr>\n",
       "  </thead>\n",
       "  <tbody>\n",
       "    <tr>\n",
       "      <th>0</th>\n",
       "      <td>1</td>\n",
       "      <td>2012.917</td>\n",
       "      <td>32.0</td>\n",
       "      <td>84.87882</td>\n",
       "      <td>10</td>\n",
       "      <td>24.98298</td>\n",
       "      <td>121.54024</td>\n",
       "      <td>37.9</td>\n",
       "    </tr>\n",
       "    <tr>\n",
       "      <th>1</th>\n",
       "      <td>2</td>\n",
       "      <td>2012.917</td>\n",
       "      <td>19.5</td>\n",
       "      <td>306.59470</td>\n",
       "      <td>9</td>\n",
       "      <td>24.98034</td>\n",
       "      <td>121.53951</td>\n",
       "      <td>42.2</td>\n",
       "    </tr>\n",
       "    <tr>\n",
       "      <th>2</th>\n",
       "      <td>3</td>\n",
       "      <td>2013.583</td>\n",
       "      <td>13.3</td>\n",
       "      <td>561.98450</td>\n",
       "      <td>5</td>\n",
       "      <td>24.98746</td>\n",
       "      <td>121.54391</td>\n",
       "      <td>47.3</td>\n",
       "    </tr>\n",
       "    <tr>\n",
       "      <th>3</th>\n",
       "      <td>4</td>\n",
       "      <td>2013.500</td>\n",
       "      <td>13.3</td>\n",
       "      <td>561.98450</td>\n",
       "      <td>5</td>\n",
       "      <td>24.98746</td>\n",
       "      <td>121.54391</td>\n",
       "      <td>54.8</td>\n",
       "    </tr>\n",
       "    <tr>\n",
       "      <th>4</th>\n",
       "      <td>5</td>\n",
       "      <td>2012.833</td>\n",
       "      <td>5.0</td>\n",
       "      <td>390.56840</td>\n",
       "      <td>5</td>\n",
       "      <td>24.97937</td>\n",
       "      <td>121.54245</td>\n",
       "      <td>43.1</td>\n",
       "    </tr>\n",
       "  </tbody>\n",
       "</table>\n",
       "</div>"
      ],
      "text/plain": [
       "   No  transaction_date  house_age  distance_to_the_nearest_MRT_station  \\\n",
       "0   1          2012.917       32.0                             84.87882   \n",
       "1   2          2012.917       19.5                            306.59470   \n",
       "2   3          2013.583       13.3                            561.98450   \n",
       "3   4          2013.500       13.3                            561.98450   \n",
       "4   5          2012.833        5.0                            390.56840   \n",
       "\n",
       "   number_of_convenience_stores  latitude  longitude  house_price_of_unit_area  \n",
       "0                            10  24.98298  121.54024                      37.9  \n",
       "1                             9  24.98034  121.53951                      42.2  \n",
       "2                             5  24.98746  121.54391                      47.3  \n",
       "3                             5  24.98746  121.54391                      54.8  \n",
       "4                             5  24.97937  121.54245                      43.1  "
      ]
     },
     "execution_count": 84,
     "metadata": {},
     "output_type": "execute_result"
    }
   ],
   "source": [
    "## Exercise 5\n",
    "## a.)\n",
    "# Importing the csv file\n",
    "import boto3\n",
    "import pandas as pd; pd.set_option('display.max_columns', 100)\n",
    "import numpy as np\n",
    "\n",
    "s3= boto3.resource('s3')\n",
    "bucket_name= 'macklins-bucket'\n",
    "bucket= s3.Bucket(bucket_name)\n",
    "\n",
    "file_key= 'Real_Estate.csv'\n",
    "\n",
    "bucket_object= bucket.Object(file_key)\n",
    "file_object= bucket_object.get()\n",
    "file_content_stream= file_object.get('Body')\n",
    "\n",
    "## Reading the data file\n",
    "house_price= pd.read_csv(file_content_stream)\n",
    "house_price.head()"
   ]
  },
  {
   "cell_type": "code",
   "execution_count": 85,
   "id": "272749a4",
   "metadata": {},
   "outputs": [
    {
     "data": {
      "text/html": [
       "<div>\n",
       "<style scoped>\n",
       "    .dataframe tbody tr th:only-of-type {\n",
       "        vertical-align: middle;\n",
       "    }\n",
       "\n",
       "    .dataframe tbody tr th {\n",
       "        vertical-align: top;\n",
       "    }\n",
       "\n",
       "    .dataframe thead th {\n",
       "        text-align: right;\n",
       "    }\n",
       "</style>\n",
       "<table border=\"1\" class=\"dataframe\">\n",
       "  <thead>\n",
       "    <tr style=\"text-align: right;\">\n",
       "      <th></th>\n",
       "      <th>house_age</th>\n",
       "      <th>distance_to_the_nearest_MRT_station</th>\n",
       "      <th>number_of_convenience_stores</th>\n",
       "      <th>latitude</th>\n",
       "      <th>longitude</th>\n",
       "      <th>house_price_of_unit_area</th>\n",
       "    </tr>\n",
       "  </thead>\n",
       "  <tbody>\n",
       "    <tr>\n",
       "      <th>0</th>\n",
       "      <td>32.0</td>\n",
       "      <td>84.87882</td>\n",
       "      <td>10</td>\n",
       "      <td>24.98298</td>\n",
       "      <td>121.54024</td>\n",
       "      <td>37.9</td>\n",
       "    </tr>\n",
       "    <tr>\n",
       "      <th>1</th>\n",
       "      <td>19.5</td>\n",
       "      <td>306.59470</td>\n",
       "      <td>9</td>\n",
       "      <td>24.98034</td>\n",
       "      <td>121.53951</td>\n",
       "      <td>42.2</td>\n",
       "    </tr>\n",
       "    <tr>\n",
       "      <th>2</th>\n",
       "      <td>13.3</td>\n",
       "      <td>561.98450</td>\n",
       "      <td>5</td>\n",
       "      <td>24.98746</td>\n",
       "      <td>121.54391</td>\n",
       "      <td>47.3</td>\n",
       "    </tr>\n",
       "    <tr>\n",
       "      <th>3</th>\n",
       "      <td>13.3</td>\n",
       "      <td>561.98450</td>\n",
       "      <td>5</td>\n",
       "      <td>24.98746</td>\n",
       "      <td>121.54391</td>\n",
       "      <td>54.8</td>\n",
       "    </tr>\n",
       "    <tr>\n",
       "      <th>4</th>\n",
       "      <td>5.0</td>\n",
       "      <td>390.56840</td>\n",
       "      <td>5</td>\n",
       "      <td>24.97937</td>\n",
       "      <td>121.54245</td>\n",
       "      <td>43.1</td>\n",
       "    </tr>\n",
       "  </tbody>\n",
       "</table>\n",
       "</div>"
      ],
      "text/plain": [
       "   house_age  distance_to_the_nearest_MRT_station  \\\n",
       "0       32.0                             84.87882   \n",
       "1       19.5                            306.59470   \n",
       "2       13.3                            561.98450   \n",
       "3       13.3                            561.98450   \n",
       "4        5.0                            390.56840   \n",
       "\n",
       "   number_of_convenience_stores  latitude  longitude  house_price_of_unit_area  \n",
       "0                            10  24.98298  121.54024                      37.9  \n",
       "1                             9  24.98034  121.53951                      42.2  \n",
       "2                             5  24.98746  121.54391                      47.3  \n",
       "3                             5  24.98746  121.54391                      54.8  \n",
       "4                             5  24.97937  121.54245                      43.1  "
      ]
     },
     "execution_count": 85,
     "metadata": {},
     "output_type": "execute_result"
    }
   ],
   "source": [
    "## b.)\n",
    "# dropping the no and transaction_date columns\n",
    "house_price= house_price.drop(columns= ['No', 'transaction_date'], axis= 1)\n",
    "house_price.head()"
   ]
  },
  {
   "cell_type": "code",
   "execution_count": 86,
   "id": "536439e0",
   "metadata": {},
   "outputs": [],
   "source": [
    "## c.)\n",
    "# creating the two data-frames\n",
    "from sklearn.model_selection import train_test_split\n",
    "\n",
    "# Definning the inputs and target variable\n",
    "X = house_price.drop(columns = 'house_price_of_unit_area', axis =1) \n",
    "Y = house_price['house_price_of_unit_area']\n",
    "# Splitting the data\n",
    "X_train, X_test, Y_train, Y_test = train_test_split(X,Y, test_size = 0.2)"
   ]
  },
  {
   "cell_type": "code",
   "execution_count": 87,
   "id": "df18f5bb",
   "metadata": {},
   "outputs": [],
   "source": [
    "## d.)\n",
    "# Building the model\n",
    "from sklearn.linear_model import LinearRegression\n",
    "\n",
    "lm_md= LinearRegression().fit(X_train, Y_train)"
   ]
  },
  {
   "cell_type": "code",
   "execution_count": 88,
   "id": "86ffd60c",
   "metadata": {},
   "outputs": [
    {
     "data": {
      "text/plain": [
       "array([39.9713406 , 33.06663401, 49.84696444, 46.07460729, 43.331511  ,\n",
       "       40.66070954, 31.99041035, 12.56417269, 37.2005602 , 36.78561421,\n",
       "       38.38262678, 45.39769394, 31.07690585, 31.46811622, 13.00430083,\n",
       "       13.99561824, 38.89604241, 45.96755415, 34.03765278, 42.05981671,\n",
       "       39.48092292, 35.20080388, 46.21373662, 50.20434265, 32.82375191,\n",
       "       39.9407068 , 38.56929957, 41.36928451, 46.19544467, 13.69671996,\n",
       "       50.00754416, 39.14951673, 45.4779838 , 30.68476505, 25.9622308 ,\n",
       "       38.30233693, 37.10053427, 53.10894163, 32.07123237, 46.63908756,\n",
       "       39.80689038, 30.03065189, 29.48301948, 45.95669226, 33.45868157,\n",
       "       40.32139088,  7.7460729 , 46.95862085, 33.07517389, 38.36212567,\n",
       "       45.95669226, 39.07715368, 23.54557852,  1.52883809, 35.28772247,\n",
       "       13.55988108, 48.85627755, 29.82833992,  6.78013587, 23.65263166,\n",
       "       47.11920056, 53.08217835, 46.02370852, 43.17090332, 46.51483193,\n",
       "       43.04022435, 32.42292727, 41.899237  , 41.7969386 , 44.02663255,\n",
       "       13.83503853, 40.13214882, 23.81207666, 36.01249035, 45.4779838 ,\n",
       "       41.05441045, 40.4819848 , 43.83893504, 45.97221981, 37.78484264,\n",
       "       49.73162858, 45.94820413, 40.52724963])"
      ]
     },
     "execution_count": 88,
     "metadata": {},
     "output_type": "execute_result"
    }
   ],
   "source": [
    "# Predicting on test\n",
    "lm_pred= lm_md.predict(X_test)\n",
    "lm_pred"
   ]
  },
  {
   "cell_type": "code",
   "execution_count": 89,
   "id": "4fb5362e",
   "metadata": {},
   "outputs": [
    {
     "data": {
      "text/plain": [
       "126.21600394067788"
      ]
     },
     "execution_count": 89,
     "metadata": {},
     "output_type": "execute_result"
    }
   ],
   "source": [
    "# Reporting the mse\n",
    "np.mean((Y_test-lm_pred)**2)"
   ]
  },
  {
   "cell_type": "code",
   "execution_count": 90,
   "id": "9a73b553",
   "metadata": {},
   "outputs": [
    {
     "data": {
      "text/plain": [
       "array([49.96096484, 31.44947603, 32.72218232, 35.32811126, 46.9661762 ,\n",
       "       53.08621983, 35.96823892, 46.15786962, 39.91409474, 42.30761313,\n",
       "       31.56895155, 49.32495232, 29.14560828, 31.32741826, 37.28424563,\n",
       "       48.64723072, 38.1949742 , 47.66469577, 50.37783012, 34.06873484,\n",
       "       36.55369843, 52.26760001, 37.62094845, 34.85124876, 48.47011017,\n",
       "       34.52732202, 30.78170648, 13.11655278, 50.06278676, 30.9588903 ,\n",
       "       26.12760298, 52.90325113, 39.77124612, 39.78454948, 41.587369  ,\n",
       "       29.05643971, 46.54711487, 42.4864927 , 14.6137628 , 55.90474673,\n",
       "       41.81295783, 46.1432968 , 39.71180041, 48.97174643, 16.1258673 ,\n",
       "       15.90621139, 44.01799273, 43.97061345, 43.84835751, 41.76261448,\n",
       "       45.31524738, 44.27068023, 49.60719013, 47.25854954, 30.06690362,\n",
       "       16.8751846 , 28.5206422 , 42.60538412, 33.45126199, 51.88483182,\n",
       "       17.78125607, 41.48991512, 42.43283481, 48.38139784, 48.63247105,\n",
       "       14.67885131, 44.94343832, 39.79520332, 52.14870859, 34.25344445,\n",
       "       50.00334105, 46.41089024, 32.92557204, 42.84202162, 43.96447265,\n",
       "       15.90621139, 42.58290199, 16.98783009, 41.94644672, 42.04064057,\n",
       "       48.98055914, 46.90673049, 42.129276  ])"
      ]
     },
     "execution_count": 90,
     "metadata": {},
     "output_type": "execute_result"
    }
   ],
   "source": [
    "## e.)\n",
    "# Building the new model\n",
    "from sklearn.model_selection import train_test_split\n",
    "\n",
    "# Definning the inputs and target variable\n",
    "X2 = house_price[['house_age', 'number_of_convenience_stores', 'latitude', 'longitude']]\n",
    "Y2 = house_price['house_price_of_unit_area']\n",
    "# Splitting the data\n",
    "X2_train, X2_test, Y2_train, Y2_test = train_test_split(X2,Y2, test_size = 0.2)\n",
    "\n",
    "\n",
    "# Building the model\n",
    "from sklearn.linear_model import LinearRegression\n",
    "\n",
    "lm_md2= LinearRegression().fit(X2_train, Y2_train)\n",
    "\n",
    "# Making the predictions\n",
    "lm_pred2= lm_md2.predict(X2_test)\n",
    "lm_pred2"
   ]
  },
  {
   "cell_type": "code",
   "execution_count": 91,
   "id": "e74407ba",
   "metadata": {},
   "outputs": [
    {
     "data": {
      "text/plain": [
       "94.25335500301165"
      ]
     },
     "execution_count": 91,
     "metadata": {},
     "output_type": "execute_result"
    }
   ],
   "source": [
    "# Reporting the mse\n",
    "np.mean((Y2_test-lm_pred2)**2)"
   ]
  },
  {
   "cell_type": "code",
   "execution_count": null,
   "id": "c0bdc039",
   "metadata": {},
   "outputs": [],
   "source": [
    "## f.)\n",
    "# The mse of a model reports the overall accuracy of a model, with the number closest to zero being\n",
    "# the more accurate model. This means that the model from part d is more accurate and is the one\n",
    "# I would rather have."
   ]
  },
  {
   "cell_type": "code",
   "execution_count": 94,
   "id": "eda6e8c3",
   "metadata": {},
   "outputs": [],
   "source": [
    "## g.)\n",
    "# creating the list to store the results\n",
    "mse1= list()\n",
    "mse2= list()\n",
    "\n",
    "for i in range (0,100):\n",
    "    \n",
    "    # Model 1\n",
    "    # Definning the input and target variables\n",
    "    x1= house_price.drop(columns= 'house_price_of_unit_area', axis= 1)\n",
    "    y1= house_price['house_price_of_unit_area']\n",
    "    \n",
    "    # Splitting the data\n",
    "    X_train, X_test, Y_train, Y_test = train_test_split(x1,y1, test_size = 0.2)\n",
    "    \n",
    "    # Linear Model\n",
    "    lm_md1= LinearRegression().fit(X_train, Y_train)\n",
    "    \n",
    "    # Making the predictions on test\n",
    "    lm_md1_pred= lm_md1.predict(X_test)\n",
    "    mse1.append(np.mean(Y_test - lm_md1_pred)**2)\n",
    "    \n",
    "   \n",
    "   #Model 2 \n",
    "    \n",
    "    from sklearn.model_selection import train_test_split\n",
    "\n",
    "    # Definning the inputs and target variable\n",
    "    X22 = house_price[['house_age', 'number_of_convenience_stores', 'latitude', 'longitude']]\n",
    "    Y22 = house_price['house_price_of_unit_area']\n",
    "    # Splitting the data\n",
    "    X22_train, X22_test, Y22_train, Y22_test = train_test_split(X22,Y22, test_size = 0.2)\n",
    "\n",
    "\n",
    "    # Building the model\n",
    "    from sklearn.linear_model import LinearRegression\n",
    "\n",
    "    lm_md22= LinearRegression().fit(X22_train, Y22_train)\n",
    "\n",
    "    # Making the predictions\n",
    "    lm_pred22= lm_md22.predict(X2_test)\n",
    "    mse2.append(np.mean(Y22_test-lm_pred22))"
   ]
  },
  {
   "cell_type": "code",
   "execution_count": 95,
   "id": "193bd2c1",
   "metadata": {},
   "outputs": [
    {
     "data": {
      "image/png": "[encoded data removed]",
      "text/plain": [
       "<Figure size 432x288 with 1 Axes>"
      ]
     },
     "metadata": {
      "needs_background": "light"
     },
     "output_type": "display_data"
    }
   ],
   "source": [
    "## g.)\n",
    "import matplotlib.pyplot as plt \n",
    "\n",
    "# index= np.linspace(0,100)\n",
    "\n",
    "plt.plot([i for i in range(0, 100)], mse1)\n",
    "plt.plot([i for i in range(0, 100)], mse2)\n",
    "plt.show()"
   ]
  },
  {
   "cell_type": "code",
   "execution_count": null,
   "id": "cb1d78a0",
   "metadata": {},
   "outputs": [],
   "source": [
    "# I would rather have the blue model because the mse is closer to zero."
   ]
  }
 ],
 "metadata": {
  "kernelspec": {
   "display_name": "conda_python3",
   "language": "python",
   "name": "conda_python3"
  },
  "language_info": {
   "codemirror_mode": {
    "name": "ipython",
    "version": 3
   },
   "file_extension": ".py",
   "mimetype": "text/x-python",
   "name": "python",
   "nbconvert_exporter": "python",
   "pygments_lexer": "ipython3",
   "version": "3.8.12"
  }
 },
 "nbformat": 4,
 "nbformat_minor": 5
}
