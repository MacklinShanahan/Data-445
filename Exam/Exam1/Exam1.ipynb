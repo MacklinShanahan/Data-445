{
 "cells": [
  {
   "cell_type": "code",
   "execution_count": null,
   "id": "f6961c03",
   "metadata": {},
   "outputs": [],
   "source": [
    "import boto3\n",
    "import pandas as pd; pd.set_option('display.max_columns', 100)\n",
    "import numpy as np\n",
    "\n",
    "from sklearn.model_selection import train_test_split\n",
    "from sklearn.linear_model import LinearRegression, Ridge, RidgeCV, Lasso, LassoCV\n",
    "\n",
    "\n",
    "s3= boto3.resource('s3')\n",
    "bucket_name= 'macklins-bucket'\n",
    "bucket= s3.Bucket(bucket_name)\n",
    "\n",
    "file_key= 'College.csv'\n",
    "\n",
    "bucket_object= bucket.Object(file_key)\n",
    "file_object= bucket_object.get()\n",
    "file_content_stream= file_object.get('Body')\n",
    "\n",
    "## Reading the data file\n",
    "car_price= pd.read_csv(file_content_stream)\n",
    "car_price.head()"
   ]
  }
 ],
 "metadata": {
  "kernelspec": {
   "display_name": "conda_python3",
   "language": "python",
   "name": "conda_python3"
  },
  "language_info": {
   "codemirror_mode": {
    "name": "ipython",
    "version": 3
   },
   "file_extension": ".py",
   "mimetype": "text/x-python",
   "name": "python",
   "nbconvert_exporter": "python",
   "pygments_lexer": "ipython3",
   "version": "3.8.12"
  }
 },
 "nbformat": 4,
 "nbformat_minor": 5
}
