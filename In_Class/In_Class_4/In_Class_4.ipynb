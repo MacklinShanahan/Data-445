{
 "cells": [
  {
   "cell_type": "code",
   "execution_count": 7,
   "id": "cf1b94f5",
   "metadata": {},
   "outputs": [
    {
     "data": {
      "text/html": [
       "<div>\n",
       "<style scoped>\n",
       "    .dataframe tbody tr th:only-of-type {\n",
       "        vertical-align: middle;\n",
       "    }\n",
       "\n",
       "    .dataframe tbody tr th {\n",
       "        vertical-align: top;\n",
       "    }\n",
       "\n",
       "    .dataframe thead th {\n",
       "        text-align: right;\n",
       "    }\n",
       "</style>\n",
       "<table border=\"1\" class=\"dataframe\">\n",
       "  <thead>\n",
       "    <tr style=\"text-align: right;\">\n",
       "      <th></th>\n",
       "      <th>No</th>\n",
       "      <th>transaction_date</th>\n",
       "      <th>house_age</th>\n",
       "      <th>distance_to_the_nearest_MRT_station</th>\n",
       "      <th>number_of_convenience_stores</th>\n",
       "      <th>latitude</th>\n",
       "      <th>longitude</th>\n",
       "      <th>house_price_of_unit_area</th>\n",
       "    </tr>\n",
       "  </thead>\n",
       "  <tbody>\n",
       "    <tr>\n",
       "      <th>0</th>\n",
       "      <td>1</td>\n",
       "      <td>2012.917</td>\n",
       "      <td>32.0</td>\n",
       "      <td>84.87882</td>\n",
       "      <td>10</td>\n",
       "      <td>24.98298</td>\n",
       "      <td>121.54024</td>\n",
       "      <td>37.9</td>\n",
       "    </tr>\n",
       "    <tr>\n",
       "      <th>1</th>\n",
       "      <td>2</td>\n",
       "      <td>2012.917</td>\n",
       "      <td>19.5</td>\n",
       "      <td>306.59470</td>\n",
       "      <td>9</td>\n",
       "      <td>24.98034</td>\n",
       "      <td>121.53951</td>\n",
       "      <td>42.2</td>\n",
       "    </tr>\n",
       "    <tr>\n",
       "      <th>2</th>\n",
       "      <td>3</td>\n",
       "      <td>2013.583</td>\n",
       "      <td>13.3</td>\n",
       "      <td>561.98450</td>\n",
       "      <td>5</td>\n",
       "      <td>24.98746</td>\n",
       "      <td>121.54391</td>\n",
       "      <td>47.3</td>\n",
       "    </tr>\n",
       "    <tr>\n",
       "      <th>3</th>\n",
       "      <td>4</td>\n",
       "      <td>2013.500</td>\n",
       "      <td>13.3</td>\n",
       "      <td>561.98450</td>\n",
       "      <td>5</td>\n",
       "      <td>24.98746</td>\n",
       "      <td>121.54391</td>\n",
       "      <td>54.8</td>\n",
       "    </tr>\n",
       "    <tr>\n",
       "      <th>4</th>\n",
       "      <td>5</td>\n",
       "      <td>2012.833</td>\n",
       "      <td>5.0</td>\n",
       "      <td>390.56840</td>\n",
       "      <td>5</td>\n",
       "      <td>24.97937</td>\n",
       "      <td>121.54245</td>\n",
       "      <td>43.1</td>\n",
       "    </tr>\n",
       "  </tbody>\n",
       "</table>\n",
       "</div>"
      ],
      "text/plain": [
       "   No  transaction_date  house_age  distance_to_the_nearest_MRT_station  \\\n",
       "0   1          2012.917       32.0                             84.87882   \n",
       "1   2          2012.917       19.5                            306.59470   \n",
       "2   3          2013.583       13.3                            561.98450   \n",
       "3   4          2013.500       13.3                            561.98450   \n",
       "4   5          2012.833        5.0                            390.56840   \n",
       "\n",
       "   number_of_convenience_stores  latitude  longitude  house_price_of_unit_area  \n",
       "0                            10  24.98298  121.54024                      37.9  \n",
       "1                             9  24.98034  121.53951                      42.2  \n",
       "2                             5  24.98746  121.54391                      47.3  \n",
       "3                             5  24.98746  121.54391                      54.8  \n",
       "4                             5  24.97937  121.54245                      43.1  "
      ]
     },
     "execution_count": 7,
     "metadata": {},
     "output_type": "execute_result"
    }
   ],
   "source": [
    "import boto3\n",
    "import pandas as pd; pd.set_option('display.max_columns', 100)\n",
    "import numpy as np\n",
    "\n",
    "s3= boto3.resource('s3')\n",
    "bucket_name= 'macklins-bucket'\n",
    "bucket= s3.Bucket(bucket_name)\n",
    "\n",
    "file_key= 'Real_Estate.csv'\n",
    "\n",
    "bucket_object= bucket.Object(file_key)\n",
    "file_object= bucket_object.get()\n",
    "file_content_stream= file_object.get('Body')\n",
    "\n",
    "## Reading the data file\n",
    "house_price= pd.read_csv(file_content_stream)\n",
    "house_price.head()"
   ]
  },
  {
   "cell_type": "code",
   "execution_count": 8,
   "id": "3f5a1a6a",
   "metadata": {},
   "outputs": [
    {
     "data": {
      "text/html": [
       "<div>\n",
       "<style scoped>\n",
       "    .dataframe tbody tr th:only-of-type {\n",
       "        vertical-align: middle;\n",
       "    }\n",
       "\n",
       "    .dataframe tbody tr th {\n",
       "        vertical-align: top;\n",
       "    }\n",
       "\n",
       "    .dataframe thead th {\n",
       "        text-align: right;\n",
       "    }\n",
       "</style>\n",
       "<table border=\"1\" class=\"dataframe\">\n",
       "  <thead>\n",
       "    <tr style=\"text-align: right;\">\n",
       "      <th></th>\n",
       "      <th>house_age</th>\n",
       "      <th>distance_to_the_nearest_MRT_station</th>\n",
       "      <th>number_of_convenience_stores</th>\n",
       "      <th>latitude</th>\n",
       "      <th>longitude</th>\n",
       "      <th>house_price_of_unit_area</th>\n",
       "    </tr>\n",
       "  </thead>\n",
       "  <tbody>\n",
       "    <tr>\n",
       "      <th>0</th>\n",
       "      <td>32.0</td>\n",
       "      <td>84.87882</td>\n",
       "      <td>10</td>\n",
       "      <td>24.98298</td>\n",
       "      <td>121.54024</td>\n",
       "      <td>37.9</td>\n",
       "    </tr>\n",
       "    <tr>\n",
       "      <th>1</th>\n",
       "      <td>19.5</td>\n",
       "      <td>306.59470</td>\n",
       "      <td>9</td>\n",
       "      <td>24.98034</td>\n",
       "      <td>121.53951</td>\n",
       "      <td>42.2</td>\n",
       "    </tr>\n",
       "    <tr>\n",
       "      <th>2</th>\n",
       "      <td>13.3</td>\n",
       "      <td>561.98450</td>\n",
       "      <td>5</td>\n",
       "      <td>24.98746</td>\n",
       "      <td>121.54391</td>\n",
       "      <td>47.3</td>\n",
       "    </tr>\n",
       "    <tr>\n",
       "      <th>3</th>\n",
       "      <td>13.3</td>\n",
       "      <td>561.98450</td>\n",
       "      <td>5</td>\n",
       "      <td>24.98746</td>\n",
       "      <td>121.54391</td>\n",
       "      <td>54.8</td>\n",
       "    </tr>\n",
       "    <tr>\n",
       "      <th>4</th>\n",
       "      <td>5.0</td>\n",
       "      <td>390.56840</td>\n",
       "      <td>5</td>\n",
       "      <td>24.97937</td>\n",
       "      <td>121.54245</td>\n",
       "      <td>43.1</td>\n",
       "    </tr>\n",
       "  </tbody>\n",
       "</table>\n",
       "</div>"
      ],
      "text/plain": [
       "   house_age  distance_to_the_nearest_MRT_station  \\\n",
       "0       32.0                             84.87882   \n",
       "1       19.5                            306.59470   \n",
       "2       13.3                            561.98450   \n",
       "3       13.3                            561.98450   \n",
       "4        5.0                            390.56840   \n",
       "\n",
       "   number_of_convenience_stores  latitude  longitude  house_price_of_unit_area  \n",
       "0                            10  24.98298  121.54024                      37.9  \n",
       "1                             9  24.98034  121.53951                      42.2  \n",
       "2                             5  24.98746  121.54391                      47.3  \n",
       "3                             5  24.98746  121.54391                      54.8  \n",
       "4                             5  24.97937  121.54245                      43.1  "
      ]
     },
     "execution_count": 8,
     "metadata": {},
     "output_type": "execute_result"
    }
   ],
   "source": [
    "## Dropping the No and transaction_date column\n",
    "house_price= house_price.drop(columns= ['No', 'transaction_date'], axis= 1)\n",
    "house_price.head()"
   ]
  },
  {
   "cell_type": "code",
   "execution_count": 10,
   "id": "6474aaed",
   "metadata": {},
   "outputs": [],
   "source": [
    "from sklearn.model_selection import train_test_split\n",
    "\n",
    "## Defining the variables\n",
    "X= house_price.drop(columns = 'house_price_of_unit_area', axis = 1)\n",
    "Y= house_price['house_price_of_unit_area']\n",
    "\n",
    "\n",
    "## Splitting the data\n",
    "X_train, X_test, Y_train, Y_test = train_test_split(X, Y, test_size = 0.2)"
   ]
  },
  {
   "cell_type": "code",
   "execution_count": 11,
   "id": "3203a676",
   "metadata": {},
   "outputs": [],
   "source": [
    "from sklearn.linear_model import LinearRegression\n",
    "\n",
    "## Building the linear model\n",
    "lm_md = LinearRegression().fit(X_train, Y_train)"
   ]
  },
  {
   "cell_type": "code",
   "execution_count": 14,
   "id": "a3574285",
   "metadata": {},
   "outputs": [
    {
     "data": {
      "text/plain": [
       "array([33.37522315, 30.36014517, 42.82666472, 35.91212865, 33.19904893,\n",
       "       28.60088502, 45.5132681 , 44.84657221, 42.72594382, 39.73611472,\n",
       "       49.69628867, 41.55834813, 24.47972377, 15.89282577, 44.2041673 ,\n",
       "       42.82269829, 44.99152934, 30.49567918, 50.33967253, 42.77757842,\n",
       "       45.18446723, 10.29519779, 39.35749645, 34.86717251, 45.96906706,\n",
       "       15.86397018, 39.32106887, 42.05522476, 36.50635852, 46.8129342 ,\n",
       "       39.57038775, 33.76729619, 43.32687313, 12.18327023, 41.38078532,\n",
       "       37.26483026, 39.70094617, 28.14688714, 47.68640498, 47.80633154,\n",
       "       47.30142946, 38.58129594, 45.71482858, 50.33967253, 15.05601363,\n",
       "       33.34636756, 31.23710279, 45.64482206, 37.91914803, 33.373334  ,\n",
       "       51.43034977, 25.30689527, 39.10582684, 41.6449149 , 34.62031393,\n",
       "       44.58369701, 34.83831692, 31.38138074, 31.26595838, 45.8139518 ,\n",
       "       39.99550061, 45.71482858, 12.21203441, 30.51166077, 43.83312571,\n",
       "       43.09063302, 43.83925544, 44.39918575, 42.44907237, 41.73148167,\n",
       "       47.58663634, 29.67812244, 32.71978787, 48.83412539, 48.02602124,\n",
       "       44.87610698, 51.66472072, 46.54197296, 51.86670986, 47.77805365,\n",
       "       31.77281799, 37.80457395, 24.56822654])"
      ]
     },
     "execution_count": 14,
     "metadata": {},
     "output_type": "execute_result"
    }
   ],
   "source": [
    "## Using the model to predict on test\n",
    "lm_preds = lm_md.predict(X_test)\n",
    "lm_preds"
   ]
  },
  {
   "cell_type": "code",
   "execution_count": 17,
   "id": "a9325008",
   "metadata": {},
   "outputs": [
    {
     "data": {
      "image/png": "[encoded data removed]",
      "text/plain": [
       "<Figure size 432x288 with 1 Axes>"
      ]
     },
     "metadata": {
      "needs_background": "light"
     },
     "output_type": "display_data"
    }
   ],
   "source": [
    "import matplotlib.pyplot as plt \n",
    "\n",
    "plt.scatter(x = lm_preds, y= Y_test)\n",
    "plt.xlabel('Linear model predictions')\n",
    "plt.ylabel('Actual Values')\n",
    "plt.show()"
   ]
  },
  {
   "cell_type": "code",
   "execution_count": 19,
   "id": "b548b99a",
   "metadata": {},
   "outputs": [
    {
     "data": {
      "text/plain": [
       "64.54091967774373"
      ]
     },
     "execution_count": 19,
     "metadata": {},
     "output_type": "execute_result"
    }
   ],
   "source": [
    "## Computing the mse\n",
    "np.mean((Y_test - lm_preds)**2)"
   ]
  }
 ],
 "metadata": {
  "kernelspec": {
   "display_name": "conda_python3",
   "language": "python",
   "name": "conda_python3"
  },
  "language_info": {
   "codemirror_mode": {
    "name": "ipython",
    "version": 3
   },
   "file_extension": ".py",
   "mimetype": "text/x-python",
   "name": "python",
   "nbconvert_exporter": "python",
   "pygments_lexer": "ipython3",
   "version": "3.8.12"
  }
 },
 "nbformat": 4,
 "nbformat_minor": 5
}
