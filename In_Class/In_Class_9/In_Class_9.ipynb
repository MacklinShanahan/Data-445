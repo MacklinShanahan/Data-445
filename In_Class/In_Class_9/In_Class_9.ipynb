{
 "cells": [
  {
   "cell_type": "code",
   "execution_count": null,
   "id": "dd82f39e",
   "metadata": {},
   "outputs": [],
   "source": [
    "## Exercise 1.)\n",
    "import boto3\n",
    "import pandas as pd; pd.set_option('display.max_columns', 100)\n",
    "import numpy as np\n",
    "\n",
    "from sklearn.model_selection import train_test_split\n",
    "from sklearn.linear_model import LinearRegression, Ridge, RidgeCV, Lasso, LassoCV\n",
    "\n",
    "\n",
    "\n",
    "s3= boto3.resource('s3')\n",
    "bucket_name= 'macklins-bucket'\n",
    "bucket= s3.Bucket(bucket_name)\n",
    "\n",
    "file_key= 'CarPrice_Assignment.csv'\n",
    "\n",
    "bucket_object= bucket.Object(file_key)\n",
    "file_object= bucket_object.get()\n",
    "file_content_stream= file_object.get('Body')\n",
    "\n",
    "## Reading the data file\n",
    "car_price= pd.read_csv(file_content_stream)\n",
    "car_price.head()"
   ]
  },
  {
   "cell_type": "code",
   "execution_count": 6,
   "id": "5fdcd6e3",
   "metadata": {},
   "outputs": [],
   "source": [
    "# defining the input and target variables\n",
    "X = car_price[['wheelbase', 'enginesize', 'horsepower', 'compressionratio', 'peakrpm', 'citympg', 'highwaympg']]\n",
    "Y = car_price['price']\n",
    "\n",
    "# splitting the data into train and test\n",
    "X_train, X_test, Y_train, Y_test = train_test_split(X, Y, test_size = 0.2)"
   ]
  },
  {
   "cell_type": "code",
   "execution_count": 7,
   "id": "3df00afd",
   "metadata": {},
   "outputs": [
    {
     "name": "stdout",
     "output_type": "stream",
     "text": [
      "The estimated lamba for the lasso model is 1.0\n"
     ]
    },
    {
     "name": "stderr",
     "output_type": "stream",
     "text": [
      "/home/ec2-user/anaconda3/envs/python3/lib/python3.8/site-packages/sklearn/linear_model/_base.py:141: FutureWarning: 'normalize' was deprecated in version 1.0 and will be removed in 1.2.\n",
      "If you wish to scale the data, use Pipeline with a StandardScaler in a preprocessing stage. To reproduce the previous behavior:\n",
      "\n",
      "from sklearn.pipeline import make_pipeline\n",
      "\n",
      "model = make_pipeline(StandardScaler(with_mean=False), Lasso())\n",
      "\n",
      "If you wish to pass a sample_weight parameter, you need to pass it as a fit parameter to each step of the pipeline as follows:\n",
      "\n",
      "kwargs = {s[0] + '__sample_weight': sample_weight for s in model.steps}\n",
      "model.fit(X, y, **kwargs)\n",
      "\n",
      "Set parameter alpha to: original_alpha * np.sqrt(n_samples). \n",
      "  warnings.warn(\n",
      "/home/ec2-user/anaconda3/envs/python3/lib/python3.8/site-packages/sklearn/linear_model/_base.py:141: FutureWarning: 'normalize' was deprecated in version 1.0 and will be removed in 1.2.\n",
      "If you wish to scale the data, use Pipeline with a StandardScaler in a preprocessing stage. To reproduce the previous behavior:\n",
      "\n",
      "from sklearn.pipeline import make_pipeline\n",
      "\n",
      "model = make_pipeline(StandardScaler(with_mean=False), Lasso())\n",
      "\n",
      "If you wish to pass a sample_weight parameter, you need to pass it as a fit parameter to each step of the pipeline as follows:\n",
      "\n",
      "kwargs = {s[0] + '__sample_weight': sample_weight for s in model.steps}\n",
      "model.fit(X, y, **kwargs)\n",
      "\n",
      "Set parameter alpha to: original_alpha * np.sqrt(n_samples). \n",
      "  warnings.warn(\n"
     ]
    },
    {
     "data": {
      "text/plain": [
       "array([ 161.99830787,  104.45437452,   58.51321121,  308.98120796,\n",
       "          1.86105372, -170.14107375,   73.40239866])"
      ]
     },
     "execution_count": 7,
     "metadata": {},
     "output_type": "execute_result"
    }
   ],
   "source": [
    "# estimating lambda for lasso\n",
    "lasso_cv = LassoCV(alphas = [0.001, 0.01, 0.1, 1, 10, 100], normalize =True, cv= 5).fit(X_train, Y_train)\n",
    "\n",
    "# extracting the best lamba\n",
    "cv_lambda = lasso_cv.alpha_\n",
    "print('The estimated lamba for the lasso model is', cv_lambda)\n",
    "\n",
    "# build lasso\n",
    "lasso_md = Lasso(alpha = cv_lamba, normalize = True).fit(X_train, Y_train)\n",
    "lasso_md.coef_"
   ]
  },
  {
   "cell_type": "code",
   "execution_count": 8,
   "id": "26ca68e6",
   "metadata": {},
   "outputs": [],
   "source": [
    "# dropping highwaympg\n",
    "X_train= X_train.drop(columns= ['highwaympg'], axis= 1)\n",
    "X_test= X_test.drop(columns= ['highwaympg'], axis= 1)\n",
    "\n",
    "\n",
    "def l2_normalization(X):\n",
    "    \n",
    "    x_mean= np.mean(X)\n",
    "    l2 = np.sqrt(sum(X**2))\n",
    "    return (X - x_mean) / l2\n",
    "\n",
    "\n",
    "X_train = X_train.apply(l2_normalization, axis = 1)\n",
    "X_test = X_test.apply(l2_normalization, axis = 1)"
   ]
  },
  {
   "cell_type": "code",
   "execution_count": 9,
   "id": "d0b2e0dc",
   "metadata": {},
   "outputs": [
    {
     "name": "stdout",
     "output_type": "stream",
     "text": [
      "The mse of the linear model is: 15683929.44186365\n"
     ]
    }
   ],
   "source": [
    "# linear regression\n",
    "lm_md = LinearRegression().fit(X_train, Y_train)\n",
    "\n",
    "# predicting on test data\n",
    "lm_pred = lm_md.predict(X_test)\n",
    "\n",
    "# computing the mse of the linear regression model\n",
    "mse1 = np.mean(np.power(Y_test - lm_pred, 2))\n",
    "print('The mse of the linear model is:', mse1)"
   ]
  },
  {
   "cell_type": "code",
   "execution_count": 14,
   "id": "c16baa7c",
   "metadata": {},
   "outputs": [
    {
     "name": "stdout",
     "output_type": "stream",
     "text": [
      "The best lamba of the ridge model is: 0.001\n",
      "The mse of the ridge model is: 17700940.257173933\n"
     ]
    }
   ],
   "source": [
    "# ridge regression\n",
    "ridge_cv = RidgeCV(alphas = [0.001, 0.01, 0.1, 1, 10, 100], cv =5).fit(X_train, Y_train)\n",
    "\n",
    "# extracting the best lamba\n",
    "cv_lambda= ridge_cv.alpha_\n",
    "print('The best lamba of the ridge model is:', cv_lambda)\n",
    "\n",
    "# building the ridge model\n",
    "ridge_md= Ridge(alpha = cv_lambda).fit(X_train, Y_train)\n",
    "\n",
    "# predicting on test\n",
    "ridge_pred = ridge_md.predict(X_test)\n",
    "\n",
    "# computing the mse of the ridge regression model\n",
    "mse2 = np.mean(np.power(Y_test - ridge_pred, 2))\n",
    "print('The mse of the ridge model is:', mse2)"
   ]
  },
  {
   "cell_type": "code",
   "execution_count": null,
   "id": "5aca6976",
   "metadata": {},
   "outputs": [],
   "source": [
    "# The mse of model 1 is smaller, meaning that model 1 is preferred."
   ]
  }
 ],
 "metadata": {
  "kernelspec": {
   "display_name": "conda_python3",
   "language": "python",
   "name": "conda_python3"
  },
  "language_info": {
   "codemirror_mode": {
    "name": "ipython",
    "version": 3
   },
   "file_extension": ".py",
   "mimetype": "text/x-python",
   "name": "python",
   "nbconvert_exporter": "python",
   "pygments_lexer": "ipython3",
   "version": "3.8.12"
  }
 },
 "nbformat": 4,
 "nbformat_minor": 5
}
